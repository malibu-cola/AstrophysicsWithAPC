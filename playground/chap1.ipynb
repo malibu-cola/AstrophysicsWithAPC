{
 "cells": [
  {
   "cell_type": "markdown",
   "metadata": {},
   "source": [
    "# 第１章 代表的な数値計算法\n",
    "## 微分方程式の数値解"
   ]
  },
  {
   "cell_type": "code",
   "execution_count": 1,
   "metadata": {},
   "outputs": [],
   "source": [
    "class DifferentialEquation:\n",
    "    \"\"\"数値解法により微分方程式の解を求めるクラス\"\"\"\n",
    "    def __init__(self, x0: float, y0: float, dx: float, iter_num: int, f: callable):\n",
    "        self.x0 = x0\n",
    "        self.y0 = y0\n",
    "        self.dx = dx\n",
    "        self.iter_num = iter_num\n",
    "        self.f = f\n",
    "\n",
    "    def eulers_method(self) -> tuple[(float, float)]:\n",
    "        \"\"\"オイラー法により微分方程式の解を求める\"\"\"\n",
    "        x = self.x0\n",
    "        y = self.y0\n",
    "        for i in range(self.iter_num):\n",
    "            x1 = x + self.dx\n",
    "            y1 = y + self.dx * self.f(x, y)\n",
    "\n",
    "            print(f\"{i}\\t{x1}\\t{y1}\")\n",
    "\n",
    "            x = x1\n",
    "            y = y1\n",
    "        return (x, y)\n",
    "\n",
    "    def cauchy_method(self) -> tuple[(float, float)]:\n",
    "        \"\"\"コーシー法により微分方程式の解を求める\"\"\"\n",
    "        x = self.x0\n",
    "        y = self.y0\n",
    "        for i in range(self.iter_num):\n",
    "            x12 = x + 0.5 * self.dx\n",
    "            y12 = y + 0.5 * self.dx * self.f(x, y)\n",
    "\n",
    "            x1 = x + self.dx\n",
    "            y1 = y + self.dx * self.f(x12, y12)\n",
    "\n",
    "            print(f\"{i}\\t{x1}\\t{y1}\")\n",
    "\n",
    "            x = x1\n",
    "            y = y1\n",
    "        return (x, y)\n",
    "    \n",
    "    def heun_method(self) -> tuple[(float, float)]:\n",
    "        \"\"\"ホイン法(予測子修正子法)により微分方程式の解を求める\"\"\"\n",
    "        x = self.x0\n",
    "        y = self.y0\n",
    "        for i in range(self.iter_num):\n",
    "            x1p = x + self.dx\n",
    "            y1p = y + self.dx * self.f(x, y)\n",
    "\n",
    "            x1 = x + self.dx\n",
    "            y1 = y + 0.5 * self.dx * (self.f(x, y) + self.f(x1p, y1p))\n",
    "\n",
    "            print(f\"{i}\\t{x1}\\t{y1}\")\n",
    "\n",
    "            x = x1\n",
    "            y = y1\n",
    "        return (x, y)\n",
    "    \n",
    "    def runge_kutta_method(self) -> tuple[(float, float)]:\n",
    "        \"\"\"ルンゲ・クッタ法により微分方程式の解を求める\"\"\"\n",
    "        x = self.x0\n",
    "        y = self.y0\n",
    "        for i in range(self.iter_num):\n",
    "            k1 = self.dx * self.f(x, y)\n",
    "            k2 = self.dx * self.f(x + 0.5 * self.dx, y + 0.5 * k1)\n",
    "            k3 = self.dx * self.f(x + 0.5 * self.dx, y + 0.5 * k2)\n",
    "            k4 = self.dx * self.f(x + self.dx, y + k3)\n",
    "\n",
    "            x1 = x + self.dx\n",
    "            y1 = y + (k1 + 2*k2 + 2*k3 + k4) / 6\n",
    "\n",
    "            print(f\"{i}\\t{x1}\\t{y1}\")\n",
    "\n",
    "            x = x1\n",
    "            y = y1\n",
    "        return (x, y)"
   ]
  },
  {
   "cell_type": "markdown",
   "metadata": {},
   "source": [
    "## 関数のゼロ点"
   ]
  },
  {
   "cell_type": "code",
   "execution_count": 2,
   "metadata": {},
   "outputs": [],
   "source": [
    "def newton_raphson_method(f: callable, dfdx: callable, x0: float, iter_num: int) -> float:\n",
    "    \"\"\"ニュートン・ラフソン法により非線形方程式の解を求める\"\"\"\n",
    "    x = x0\n",
    "    for i in range(iter_num):\n",
    "        x1 = x - f(x) / dfdx(x)\n",
    "        print(f\"{i}\\t{x1}\")\n",
    "        x = x1\n",
    "    return x"
   ]
  },
  {
   "cell_type": "markdown",
   "metadata": {},
   "source": [
    "## 数値積分"
   ]
  },
  {
   "cell_type": "code",
   "execution_count": 3,
   "metadata": {},
   "outputs": [],
   "source": [
    "def simpsons_method(f: callable, lower_boundary: float, upper_boundary: float, num_of_division: int) -> float:\n",
    "    \"\"\"シンプソン法により積分を求める\"\"\"\n",
    "    m = num_of_division // 2\n",
    "    h = (upper_boundary - lower_boundary) / num_of_division\n",
    "\n",
    "    integral = 0\n",
    "    xlow = lower_boundary\n",
    "    flow = f(xlow)\n",
    "\n",
    "    for i in range(1, m):\n",
    "        # compute other meshpoints of thw successive subintervals and their function values\n",
    "        xmid = xlow + h\n",
    "        xup = xlow + 2 * h\n",
    "\n",
    "        fmid = f(xmid)\n",
    "        fup = f(xup)\n",
    "\n",
    "        # compute and add contribution of these two subintervals\n",
    "        integral += h * (flow  + 4 * fmid + fup) / 3\n",
    "\n",
    "        # prepare for next iteration\n",
    "        xlow = xup\n",
    "        flow = fup\n",
    "    print(f\"Integral of f(x) from {lower_boundary} to {upper_boundary} is {integral}\")\n",
    "\n",
    "    return integral"
   ]
  },
  {
   "cell_type": "code",
   "execution_count": null,
   "metadata": {},
   "outputs": [],
   "source": []
  }
 ],
 "metadata": {
  "kernelspec": {
   "display_name": "astrophysicswithapc-bUMRpzIy-py3.11",
   "language": "python",
   "name": "python3"
  },
  "language_info": {
   "codemirror_mode": {
    "name": "ipython",
    "version": 3
   },
   "file_extension": ".py",
   "mimetype": "text/x-python",
   "name": "python",
   "nbconvert_exporter": "python",
   "pygments_lexer": "ipython3",
   "version": "3.11.6"
  }
 },
 "nbformat": 4,
 "nbformat_minor": 2
}
