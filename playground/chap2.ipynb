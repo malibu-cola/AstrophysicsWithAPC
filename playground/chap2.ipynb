{
 "cells": [
  {
   "cell_type": "markdown",
   "metadata": {},
   "source": [
    "# 第２章　彗星の尾の形態\n",
    "\n",
    "## 彗星の形状\n",
    "![彗星](./pic/comet.jpg)\n",
    "![彗星2](./pic/comet.png)\n",
    "- 彗星の尾の形について考察\n",
    "- 彗星は以下の3つで構成\n",
    "  - 核\n",
    "    - 2,3 ~ 200,300km程度\n",
    "    - 太陽に接近するにつれて加熱され、コマに排出されていく\n",
    "  - コマ\n",
    "    - 球状の雲として観察される\n",
    "    - 10,000-100,000km程度\n",
    "    - 駒が生じるの太陽付近のみ\n",
    "  - 尾\n",
    "    - Type1\n",
    "      - 水素、酸素窒素炭素のイオン\n",
    "      - 尾は直線上で細かい構造を持つ。太陽とは反対側を向く\n",
    "    - Type2\n",
    "      - 細かい構造はない。\n",
    "      - ダストを含む\n",
    "      - type1より曲がっている。\n",
    "      - type3があることもあるが、type2に包括される\n",
    "\n",
    "## 彗星の方程式\n",
    "\n",
    "![note_運動方程式](./pic/note1.jpg)\n",
    "![note_彗星軌道](./pic/note2.jpg)\n",
    "![note_彗星座標系](./pic/note3.jpg)\n",
    "![note_ダストについて](./pic/note4.jpg)\n",
    "\n",
    "## パラメータの値\n",
    "\n",
    "- 離心率e\n",
    "  - $\\le 0.1$: 惑星(彗星、冥王星以外)\n",
    "\n"
   ]
  },
  {
   "cell_type": "code",
   "execution_count": null,
   "metadata": {},
   "outputs": [
    {
     "data": {
      "image/png": "[encoded data removed]",
      "text/plain": [
       "<Figure size 640x480 with 1 Axes>"
      ]
     },
     "metadata": {},
     "output_type": "display_data"
    }
   ],
   "source": [
    "from astrophysics.comet.comet import Comet\n",
    "\n",
    "eccentricities = [0.95, 0.97]  # 離心率 e\n",
    "mus = [\n",
    "    0.0,\n",
    "    -17,\n",
    "]  # 輻射圧と重力の比 mu = F_{rad} / F_{grav}\n",
    "ap = 0.50  # 近日点距離 A.U.\n",
    "for ecc in eccentricities:\n",
    "    for mu in mus:\n",
    "        comet = Comet(mu=mu, eccentricity=ecc, distance_of_perihelion=ap)\n",
    "        comet.draw()\n",
    "    #     break\n",
    "    # break"
   ]
  },
  {
   "cell_type": "code",
   "execution_count": null,
   "metadata": {},
   "outputs": [
    {
     "name": "stdout",
     "output_type": "stream",
     "text": [
      "Astrophysics with a PC: COMET TAILS\n",
      "------------------------------------\n",
      "\n",
      "---- Minimal solution program ----\n",
      "\n",
      "Input parameters and orbital elements : \n",
      "Perihelium distance (A.U.) : \n"
     ]
    },
    {
     "ename": "ValueError",
     "evalue": "could not convert string to float: ''",
     "output_type": "error",
     "traceback": [
      "\u001b[0;31m---------------------------------------------------------------------------\u001b[0m",
      "\u001b[0;31mValueError\u001b[0m                                Traceback (most recent call last)",
      "Cell \u001b[0;32mIn[67], line 9\u001b[0m\n\u001b[1;32m      7\u001b[0m \u001b[38;5;28mprint\u001b[39m(\u001b[38;5;124m\"\u001b[39m\u001b[38;5;124mInput parameters and orbital elements : \u001b[39m\u001b[38;5;124m\"\u001b[39m)\n\u001b[1;32m      8\u001b[0m \u001b[38;5;28mprint\u001b[39m(\u001b[38;5;124m\"\u001b[39m\u001b[38;5;124mPerihelium distance (A.U.) : \u001b[39m\u001b[38;5;124m\"\u001b[39m)\n\u001b[0;32m----> 9\u001b[0m ap \u001b[38;5;241m=\u001b[39m \u001b[38;5;28;43mfloat\u001b[39;49m\u001b[43m(\u001b[49m\u001b[38;5;28;43minput\u001b[39;49m\u001b[43m(\u001b[49m\u001b[43m)\u001b[49m\u001b[43m)\u001b[49m\n\u001b[1;32m     10\u001b[0m \u001b[38;5;28mprint\u001b[39m(\u001b[38;5;124m\"\u001b[39m\u001b[38;5;124mEccentricity of the comet orbit: \u001b[39m\u001b[38;5;124m\"\u001b[39m)\n\u001b[1;32m     11\u001b[0m ecc \u001b[38;5;241m=\u001b[39m \u001b[38;5;28mfloat\u001b[39m(\u001b[38;5;28minput\u001b[39m())\n",
      "\u001b[0;31mValueError\u001b[0m: could not convert string to float: ''"
     ]
    }
   ],
   "source": [
    "from math import cos, sin, sqrt, pi\n",
    "print(\"Astrophysics with a PC: COMET TAILS\")\n",
    "print(\"------------------------------------\")\n",
    "print()\n",
    "print(\"---- Minimal solution program ----\")\n",
    "print()\n",
    "\n",
    "print(\"Input parameters and orbital elements : \")\n",
    "print(\"Perihelium distance (A.U.) : \")\n",
    "ap = float(input())\n",
    "print(\"Eccentricity of the comet orbit: \")\n",
    "ecc = float(input())\n",
    "print(\"Parameter 1 - mu : \")\n",
    "mu = float(input())\n",
    "print(\"Outflow velocity : \")\n",
    "g = float(input())\n",
    "\n",
    "p = ap * (1 + ecc)\n",
    "\n",
    "for i in range(-4, 4):\n",
    "    # this for-cycle considers 9 positions of the comet int its orbit\n",
    "    # next block computes position of the nuvleus and parameters A1, A2 and A3 and shows these results on screen\n",
    "    nu = 0.5 * i\n",
    "    r = p / (1 + ecc * cos(nu))\n",
    "    x = r * cos(nu)\n",
    "    y = r * sin(nu)\n",
    "\n",
    "    a1 = sqrt(2 / mu) * r\n",
    "    a2 = 4 * ecc * r * sin(nu) / 3 / mu / sqrt(p)\n",
    "    a3 = sqrt(8 * p / mu) / 3 / r\n",
    "\n",
    "    print(\n",
    "        f\"Position {i:02} : true anomaly = {nu:6.2f} r = {r:6.2f} x = {x:6.2f} y = {y:6.2f}\"\n",
    "    )\n",
    "    print(f\"a1 = {a1:6.2f} a2 = {a2:6.2f} a3 = {a3:6.2f}\")\n",
    "\n",
    "    print(\"s\\tt\\tx\\ty\")\n",
    "\n",
    "    for j in range(-1, 1):\n",
    "        # this for-cycle considers 3 syndynames for each of the 9 positions\n",
    "        gg = j * pi / 2\n",
    "        ggdegree = j * 90\n",
    "\n",
    "        print(f\"Syndyname for G = {ggdegree:.0f}\")\n",
    "\n",
    "        for k in range(1, 9):\n",
    "            # this for-cycle computes 9 points (s, t) and their (x', y') transformation\n",
    "            s = 0.05 * k\n",
    "            t = g * sin(gg) * (a1 * sqrt(s) - a2 * s) + a3 * s * sqrt(s)\n",
    "\n",
    "            xx = (s * x + t * y + r * x) / r\n",
    "            yy = (s * y - t * x + r * y) / r\n",
    "\n",
    "            print(f\"{s:6.2f}\\t{t:6.2f}\\t{xx:6.2f}\\t{yy:6.2f}\")"
   ]
  },
  {
   "cell_type": "code",
   "execution_count": null,
   "metadata": {},
   "outputs": [],
   "source": []
  }
 ],
 "metadata": {
  "kernelspec": {
   "display_name": "astrophysicswithapc-bUMRpzIy-py3.11",
   "language": "python",
   "name": "python3"
  },
  "language_info": {
   "codemirror_mode": {
    "name": "ipython",
    "version": 3
   },
   "file_extension": ".py",
   "mimetype": "text/x-python",
   "name": "python",
   "nbconvert_exporter": "python",
   "pygments_lexer": "ipython3",
   "version": "3.11.6"
  }
 },
 "nbformat": 4,
 "nbformat_minor": 2
}
