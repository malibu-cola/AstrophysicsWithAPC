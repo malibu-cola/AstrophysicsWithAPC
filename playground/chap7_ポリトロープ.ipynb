{
 "cells": [
  {
   "cell_type": "markdown",
   "metadata": {},
   "source": [
    "# 第７章 ポリトロープ\n",
    "\n",
    "![note7_1](./pic/note7_1.jpg)"
   ]
  },
  {
   "cell_type": "code",
   "execution_count": 3,
   "metadata": {},
   "outputs": [
    {
     "name": "stdout",
     "output_type": "stream",
     "text": [
      "POLYTROPES\n",
      "Input of initial conditions and model parameters : \n",
      "polytrope index: \n",
      "step size: \n",
      "mass: \n",
      "radius: \n",
      "central pressure(Pc): 37402633758.61833\n",
      "Average density: 0.10518518518518517\n",
      "central density: 0.0002874724111926145\n",
      "mass parameter: (L):  0.3510942862589987\n",
      "distance unit(rn): 16.738468476851246\n",
      "x-final: 0.17922786688333534\n",
      "-x2*h(final): 0.7021885725179974\n"
     ]
    }
   ],
   "source": [
    "# サンプルプログラム\n",
    "print(\"POLYTROPES\")\n",
    "print(\"Input of initial conditions and model parameters : \")\n",
    "print(\"polytrope index: \")\n",
    "n = float(input())\n",
    "print(\"step size: \")\n",
    "dr = float(input())\n",
    "print(\"mass: \")\n",
    "mass = float(input())\n",
    "print(\"radius: \")\n",
    "radius = float(input())\n",
    "\n",
    "x = 0\n",
    "f = 1\n",
    "h = 0\n",
    "i = 0\n",
    "p = f**(n + 1)\n",
    "d = f**n\n",
    "m = -x * x * h\n",
    "\n",
    "#------------------\n",
    "x = dr\n",
    "f = 1 - x**2/6 + x**4*n/120\n",
    "h = -x/3 + x**3*n/30\n",
    "i = 1\n",
    "p = f**(n + 1)\n",
    "d = f**n\n",
    "m = -x * x * h\n",
    "#------------------\n",
    "\n",
    "i = 2\n",
    "vender = 1\n",
    "while vender == 1:\n",
    "    x12 = x * 0.5* dr\n",
    "    f12 = f + 0.5 * dr * h\n",
    "\n",
    "    if f12 > 0:\n",
    "        h12 = h + 0.5 * dr * (-f**n - 2*h/x)\n",
    "        x1 = x + dr\n",
    "        f1 = f + dr * h12\n",
    "        if f1 > 0:\n",
    "            h1 = h + dr * (-f12**n - 2*h12/x12)\n",
    "            p = f1**(n + 1)\n",
    "            d = f1**n\n",
    "            m = -x1*x1*h1\n",
    "\n",
    "            i += 1\n",
    "            x = x1\n",
    "            f = f1\n",
    "            h = h1\n",
    "\n",
    "            if i % 15 == 0:\n",
    "                print(\"Press any key to continue\")\n",
    "                input()\n",
    "        else:\n",
    "            vender = 0\n",
    "    else:\n",
    "        vender = 0\n",
    "xm = x - f/h\n",
    "hm = h + (xm - x)*(-f**n -2 * h/x)\n",
    "fm = 0\n",
    "pc = 9.048e14 * mass**2 / (n + 1) / hm**2 / radius**4\n",
    "dm = 1.42 * mass / radius**3\n",
    "dc = -dm * xm / 3 / hm\n",
    "lam = -xm * xm * hm / mass\n",
    "rn = radius / xm\n",
    "\n",
    "print(f\"central pressure(Pc): {pc}\")\n",
    "print(f\"Average density: {dm}\")\n",
    "print(f\"central density: {dc}\")\n",
    "print(f\"mass parameter: (L): \", lam)\n",
    "print(f\"distance unit(rn): {rn}\")\n",
    "print(f\"x-final: {xm}\")\n",
    "print(f\"-x2*h(final): {-xm*xm*hm}\")\n"
   ]
  },
  {
   "cell_type": "code",
   "execution_count": null,
   "metadata": {},
   "outputs": [],
   "source": []
  }
 ],
 "metadata": {
  "kernelspec": {
   "display_name": "astrophysicswithapc-bUMRpzIy-py3.11",
   "language": "python",
   "name": "python3"
  },
  "language_info": {
   "codemirror_mode": {
    "name": "ipython",
    "version": 3
   },
   "file_extension": ".py",
   "mimetype": "text/x-python",
   "name": "python",
   "nbconvert_exporter": "python",
   "pygments_lexer": "ipython3",
   "version": "3.11.6"
  }
 },
 "nbformat": 4,
 "nbformat_minor": 2
}
