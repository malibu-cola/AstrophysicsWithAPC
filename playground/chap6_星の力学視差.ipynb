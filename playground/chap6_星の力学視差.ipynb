{
 "cells": [
  {
   "cell_type": "markdown",
   "metadata": {},
   "source": [
    "# 第６章　星の力学視差\n",
    "\n",
    "![note6_1](./pic/note6_1.jpg)"
   ]
  },
  {
   "cell_type": "markdown",
   "metadata": {},
   "source": [
    "### 例\n",
    "\n",
    "- カシオペア座$\\eta$星\n",
    "$$\n",
    "P = 526{\\rm year}\\\\\n",
    "a = 12.21''\\\\\n",
    "m_{v, 1} = 3.7\\\\\n",
    "m_{v, 2} = 7.4\\\\\n",
    "BC_1 = 0.03\\\\\n",
    "BC_2 = 0.67\n",
    "$$\n",
    "\n",
    "- ケンタウリ$\\alpha$星\n",
    "$$\n",
    "P = 78.8{\\rm year}\\\\\n",
    "a = 17.6''\\\\\n",
    "m_{v, 1} = 0.3\\\\\n",
    "m_{v, 2} = 1.7\\\\\n",
    "BC_1 = 0.06\\\\\n",
    "BC_2 = 0.30\n",
    "$$"
   ]
  },
  {
   "cell_type": "markdown",
   "metadata": {},
   "source": [
    "### サンプルプログラム\n"
   ]
  },
  {
   "cell_type": "code",
   "execution_count": 7,
   "metadata": {},
   "outputs": [
    {
     "name": "stdout",
     "output_type": "stream",
     "text": [
      "DYNAMICAL PARALLAX\n",
      "Input the observed data\n",
      "Orbital period (year): \n",
      "Apparent distance(arc seconds): \n",
      "Apparent magnitude of first component: \n",
      "Apparent magnitude of second component: \n",
      "Balometric correction of first component: \n",
      "Balometric correction of second component: \n",
      "i\tmass1\tmass2\tdistance\tparallax\n",
      "0\t1\t1\t4.28942497186565\t0.7600086308496707\n",
      "1\t1.1477878585482744\t0.8510236442936119\t4.288575141941837\t0.760159235200877\n",
      "2\t1.147660507792187\t0.85092922048198\t4.288416525671652\t0.7601873513183094\n",
      "mass1: 1.1476367372160714\n",
      "mass2: 0.8509115958641882\n",
      "distance: 4.288386917950976\n"
     ]
    }
   ],
   "source": [
    "import math \n",
    "\n",
    "\n",
    "print(\"DYNAMICAL PARALLAX\")\n",
    "print(\"Input the observed data\")\n",
    "print(\"Orbital period (year): \")\n",
    "period = float(input())\n",
    "print(\"Apparent distance(arc seconds): \") # 見かけの距離\n",
    "apparent_distance = float(input())\n",
    "print(\"Apparent magnitude of first component: \")# 見かけの実視等級1\n",
    "apparent_magnitude1 = float(input())\n",
    "print(\"Apparent magnitude of second component: \")# 見かけの実視等級2\n",
    "apparent_magnitude2 = float(input())\n",
    "print(\"Balometric correction of first component: \")# 全放射補正1\n",
    "bc1 = float(input())\n",
    "print(\"Balometric correction of second component: \")# 全放射補正2\n",
    "bc2 = float(input())\n",
    "\n",
    "mass1 = 1\n",
    "mass2 = 1\n",
    "stopcrit = 0\n",
    "epsilon = 0.00001\n",
    "distance = 0\n",
    "i = 0\n",
    "\n",
    "print(f\"i\\tmass1\\tmass2\\tdistance\\tparallax\")\n",
    "while i < 100:\n",
    "    parallax = apparent_distance / (period**(2/3) * (mass1 + mass2)**(1/3))\n",
    "    absolute_magnitude1 = apparent_magnitude1 + 5 + 5 * math.log10(parallax)\n",
    "    absolute_magnitude2 = apparent_magnitude2 + 5 + 5 * math.log10(parallax)\n",
    "    balometric_magnitude1 = absolute_magnitude1 - bc1\n",
    "    balometric_magnitude2 = absolute_magnitude2 - bc2\n",
    "\n",
    "    mass11 = 10**(0.58 - 0.112*balometric_magnitude1)\n",
    "    mass22 = 10**(0.58 - 0.112*balometric_magnitude2)\n",
    "    distance = 1 / parallax * 3.26\n",
    "\n",
    "    if abs(mass11 - mass1) < epsilon and abs(mass22 - mass2) < epsilon:\n",
    "        break\n",
    "    print(f\"{i}\\t{mass1}\\t{mass2}\\t{distance}\\t{parallax}\")\n",
    "\n",
    "    mass1 = mass11\n",
    "    mass2 = mass22\n",
    "    i += 1\n",
    "    \n",
    "\n",
    "print(f\"mass1: {mass1}\")\n",
    "print(f\"mass2: {mass2}\")\n",
    "print(f\"distance: {distance}\")\n"
   ]
  },
  {
   "cell_type": "code",
   "execution_count": null,
   "metadata": {},
   "outputs": [],
   "source": []
  }
 ],
 "metadata": {
  "kernelspec": {
   "display_name": "astrophysicswithapc-bUMRpzIy-py3.11",
   "language": "python",
   "name": "python3"
  },
  "language_info": {
   "codemirror_mode": {
    "name": "ipython",
    "version": 3
   },
   "file_extension": ".py",
   "mimetype": "text/x-python",
   "name": "python",
   "nbconvert_exporter": "python",
   "pygments_lexer": "ipython3",
   "version": "3.11.6"
  }
 },
 "nbformat": 4,
 "nbformat_minor": 2
}
